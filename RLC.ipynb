{
 "cells": [
  {
   "cell_type": "code",
   "execution_count": 1,
   "metadata": {},
   "outputs": [],
   "source": [
    "import numpy as np\n",
    "import cv2 as cv\n"
   ]
  },
  {
   "cell_type": "code",
   "execution_count": 2,
   "metadata": {},
   "outputs": [],
   "source": [
    "img = cv.imread(\"3.bmp\", 0)"
   ]
  },
  {
   "cell_type": "code",
   "execution_count": 3,
   "metadata": {},
   "outputs": [
    {
     "name": "stdout",
     "output_type": "stream",
     "text": [
      "(225, 225)\n",
      "225\n",
      "225\n"
     ]
    }
   ],
   "source": [
    "print(img.shape)\n",
    "height, width = img.shape\n",
    "print(height)\n",
    "print(width)"
   ]
  },
  {
   "cell_type": "code",
   "execution_count": 4,
   "metadata": {},
   "outputs": [
    {
     "name": "stdout",
     "output_type": "stream",
     "text": [
      "50625\n",
      "[7 7 7 ... 7 7 7]\n",
      "[255, 7, 255, 7, 255, 7, 255, 7, 255, 7, 255, 7, 255, 7, 255, 7, 255, 7, 255, 7]\n",
      "<class 'numpy.ndarray'>\n",
      "31864\n"
     ]
    }
   ],
   "source": [
    "imagePixels = img.reshape(-1)\n",
    "print(len(imagePixels))\n",
    "encodedImage = []\n",
    "count = 0\n",
    "prev = imagePixels[0]\n",
    "\n",
    "for pixel in imagePixels:\n",
    "    if count >= 255:\n",
    "        encodedImage.append(255)\n",
    "        encodedImage.append(prev)\n",
    "        count = 0\n",
    "        prev = pixel\n",
    "\n",
    "    if pixel == prev:\n",
    "        count += 1\n",
    "    else:\n",
    "        encodedImage.append(count)\n",
    "        encodedImage.append(prev)\n",
    "        count = 1\n",
    "        prev = pixel\n",
    "\n",
    "if count > 1:\n",
    "    encodedImage.append(count)\n",
    "\n",
    "encodedImage.append(prev)\n",
    "\n",
    "print(imagePixels[20:])\n",
    "print(encodedImage[:20])\n",
    "encodedImage = np.asarray(encodedImage)\n",
    "print(type(encodedImage))\n",
    "print(len(encodedImage))"
   ]
  },
  {
   "cell_type": "code",
   "execution_count": 5,
   "metadata": {},
   "outputs": [
    {
     "name": "stdout",
     "output_type": "stream",
     "text": [
      "50625\n",
      "50625\n"
     ]
    }
   ],
   "source": [
    "decode = []\n",
    "count = ''\n",
    "n = len(encodedImage)\n",
    "i = 0\n",
    "j = i + 1\n",
    "while i<n:\n",
    "    count = encodedImage[i]\n",
    "    for c in range(count):\n",
    "        pre = encodedImage[i+1]\n",
    "        decode.append(pre)\n",
    "    i = i + 2\n",
    "    \n",
    "# print(decode)\n",
    "print(len(decode))\n",
    "decode = np.asarray(decode)\n",
    "print(len(decode))"
   ]
  },
  {
   "cell_type": "code",
   "execution_count": 6,
   "metadata": {},
   "outputs": [
    {
     "name": "stdout",
     "output_type": "stream",
     "text": [
      "[[ 7  7  7 ...  7  7  7]\n",
      " [ 7  7  7 ...  7  7  7]\n",
      " [ 7  7  7 ...  7  7  7]\n",
      " ...\n",
      " [ 7  7  7 ...  4  4  7]\n",
      " [ 7  7  7 ...  8 15  7]\n",
      " [ 7  7  7 ...  7  7  7]]\n"
     ]
    },
    {
     "data": {
      "image/png": "[encoded data removed]",
      "text/plain": [
       "<Figure size 432x288 with 2 Axes>"
      ]
     },
     "metadata": {},
     "output_type": "display_data"
    }
   ],
   "source": [
    "decode = decode.reshape(height, -1)\n",
    "print(decode)\n",
    "import matplotlib.pyplot as plt\n",
    "\n",
    "plt.subplot(1,2,1)\n",
    "plt.title(\"hinh decode\")\n",
    "plt.imshow(decode, cmap='gray')\n",
    "plt.xticks([]), plt.yticks([])\n",
    "\n",
    "\n",
    "plt.subplot(1,2,2)\n",
    "plt.title(\"hinh goc\")\n",
    "plt.imshow(img, cmap='gray')\n",
    "plt.xticks([]), plt.yticks([])\n",
    "\n",
    "plt.show()"
   ]
  },
  {
   "cell_type": "code",
   "execution_count": 7,
   "metadata": {},
   "outputs": [
    {
     "name": "stdout",
     "output_type": "stream",
     "text": [
      "0\n"
     ]
    }
   ],
   "source": [
    "r = np.sum((img - decode)**2)\n",
    "print(r)"
   ]
  },
  {
   "cell_type": "code",
   "execution_count": 8,
   "metadata": {},
   "outputs": [
    {
     "data": {
      "text/plain": [
       "True"
      ]
     },
     "execution_count": 8,
     "metadata": {},
     "output_type": "execute_result"
    }
   ],
   "source": [
    "cv.imwrite(\"3.jpg\",decode)"
   ]
  },
  {
   "cell_type": "code",
   "execution_count": 9,
   "metadata": {},
   "outputs": [
    {
     "data": {
      "text/plain": [
       "0.6294123456790124"
      ]
     },
     "execution_count": 9,
     "metadata": {},
     "output_type": "execute_result"
    }
   ],
   "source": [
    "len(encodedImage)/len(imagePixels) "
   ]
  },
  {
   "cell_type": "code",
   "execution_count": null,
   "metadata": {},
   "outputs": [],
   "source": []
  }
 ],
 "metadata": {
  "kernelspec": {
   "display_name": "Python 3",
   "language": "python",
   "name": "python3"
  },
  "language_info": {
   "codemirror_mode": {
    "name": "ipython",
    "version": 3
   },
   "file_extension": ".py",
   "mimetype": "text/x-python",
   "name": "python",
   "nbconvert_exporter": "python",
   "pygments_lexer": "ipython3",
   "version": "3.7.6"
  }
 },
 "nbformat": 4,
 "nbformat_minor": 4
}
